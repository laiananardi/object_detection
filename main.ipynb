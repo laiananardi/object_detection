{
 "cells": [
  {
   "cell_type": "code",
   "execution_count": 1,
   "metadata": {},
   "outputs": [
    {
     "name": "stdout",
     "output_type": "stream",
     "text": [
      "[[ 926  472   48   48]\n",
      " [ 482  395   44   44]\n",
      " [ 424  369   51   51]\n",
      " [1006  479   61   61]\n",
      " [ 736  450   70   70]\n",
      " [ 796  490   84   84]\n",
      " [ 785  425   61   61]\n",
      " [ 898  576  110  110]\n",
      " [ 421  463  110  110]\n",
      " [ 353  430   88   88]\n",
      " [ 667  442   77   77]\n",
      " [ 729  521  107  107]\n",
      " [ 196  422  162  162]\n",
      " [ 403  349   45   45]]\n"
     ]
    }
   ],
   "source": [
    "import cv2\n",
    "\n",
    "img_file = \"img2.jpg\"\n",
    "\n",
    "img = cv2.imread(img_file)\n",
    "car_classifier = 'cars.xml'\n",
    "\n",
    "gray_img = cv2.cvtColor(img, cv2.COLOR_BGR2GRAY)\n",
    "\n",
    "car_tracker = cv2.CascadeClassifier(car_classifier)\n",
    "\n",
    "cars = car_tracker.detectMultiScale(gray_img)\n",
    "\n",
    "print(cars)\n",
    "\n",
    "#bounding box around cars\n",
    "for (x,y,w,h) in cars:\n",
    "    cv2.rectangle(img, (x,y), (x+w, y+h), (0,255,0),2)\n",
    "    cv2.putText(img, 'Car', (x,y - 10), cv2.FONT_HERSHEY_SIMPLEX, 0.7, (0,255,0),2)\n",
    "\n",
    "cv2.imshow('detection', img)\n",
    "cv2.imwrite('newimage.png', img)\n",
    "cv2.waitKey()\n",
    "print('done')"
   ]
  }
 ],
 "metadata": {
  "interpreter": {
   "hash": "37c07f04520072d2bae32fcc521c93f9ed863935f76ccf77877a027693956774"
  },
  "kernelspec": {
   "display_name": "Python 3.9.6 64-bit",
   "name": "python3"
  },
  "language_info": {
   "codemirror_mode": {
    "name": "ipython",
    "version": 3
   },
   "file_extension": ".py",
   "mimetype": "text/x-python",
   "name": "python",
   "nbconvert_exporter": "python",
   "pygments_lexer": "ipython3",
   "version": "3.9.6"
  },
  "orig_nbformat": 4
 },
 "nbformat": 4,
 "nbformat_minor": 2
}
