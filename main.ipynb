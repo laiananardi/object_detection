{
 "cells": [
  {
   "cell_type": "code",
   "execution_count": 4,
   "source": [
    "import cv2\r\n",
    "\r\n",
    "img_file = \"img2.jpg\"\r\n",
    "\r\n",
    "img = cv2.imread(img_file)\r\n",
    "car_classifier = 'cars.xml'\r\n",
    "\r\n",
    "gray_img = cv2.cvtColor(img, cv2.COLOR_BGR2GRAY)\r\n",
    "\r\n",
    "car_tracker = cv2.CascadeClassifier(car_classifier)\r\n",
    "\r\n",
    "cars = car_tracker.detectMultiScale(gray_img)\r\n",
    "\r\n",
    "print(cars)\r\n",
    "\r\n",
    "#bounding box around cars\r\n",
    "for (x,y,w,h) in cars:\r\n",
    "    cv2.rectangle(img, (x,y), (x+w, y+h), (0,255,0),2)\r\n",
    "    cv2.putText(img, 'Car', (x,y - 10), cv2.FONT_HERSHEY_SIMPLEX, 0.7, (0,255,0),2)\r\n",
    "\r\n",
    "cv2.imshow('detection', img)\r\n",
    "cv2.imwrite('newimage.png', img)\r\n",
    "cv2.waitKey()\r\n",
    "print('done')"
   ],
   "outputs": [
    {
     "output_type": "stream",
     "name": "stdout",
     "text": [
      "[[ 898  576  110  110]\n",
      " [ 926  472   48   48]\n",
      " [ 482  395   44   44]\n",
      " [1006  479   61   61]\n",
      " [ 736  450   70   70]\n",
      " [ 796  490   84   84]\n",
      " [ 424  369   51   51]\n",
      " [ 353  430   88   88]\n",
      " [ 421  463  110  110]\n",
      " [ 785  425   61   61]\n",
      " [ 667  442   77   77]\n",
      " [ 729  521  107  107]\n",
      " [ 196  422  162  162]\n",
      " [ 403  349   45   45]]\n",
      "done\n"
     ]
    }
   ],
   "metadata": {}
  }
 ],
 "metadata": {
  "orig_nbformat": 4,
  "language_info": {
   "name": "python",
   "version": "3.9.6",
   "mimetype": "text/x-python",
   "codemirror_mode": {
    "name": "ipython",
    "version": 3
   },
   "pygments_lexer": "ipython3",
   "nbconvert_exporter": "python",
   "file_extension": ".py"
  },
  "kernelspec": {
   "name": "python3",
   "display_name": "Python 3.9.6 64-bit"
  },
  "interpreter": {
   "hash": "37c07f04520072d2bae32fcc521c93f9ed863935f76ccf77877a027693956774"
  }
 },
 "nbformat": 4,
 "nbformat_minor": 2
}